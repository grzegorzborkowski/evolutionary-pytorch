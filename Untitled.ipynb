{
 "cells": [
  {
   "cell_type": "code",
   "execution_count": 45,
   "metadata": {},
   "outputs": [],
   "source": [
    "import torch\n",
    "from sklearn.datasets import load_iris\n",
    "import torch.nn as nn\n",
    "from sklearn.metrics import accuracy_score, precision_score, recall_score\n",
    "from sklearn.model_selection import train_test_split"
   ]
  },
  {
   "cell_type": "code",
   "execution_count": 55,
   "metadata": {},
   "outputs": [
    {
     "name": "stdout",
     "output_type": "stream",
     "text": [
      "0 1.243341088294983\n",
      "25 0.5594383478164673\n",
      "50 0.4392641484737396\n",
      "75 0.3828086256980896\n",
      "100 0.3462890386581421\n",
      "125 0.31877371668815613\n",
      "150 0.29641255736351013\n",
      "175 0.27746739983558655\n",
      "200 0.26098576188087463\n",
      "225 0.24634532630443573\n",
      "prediction accuracy 0.9666666666666667\n"
     ]
    }
   ],
   "source": [
    "device = torch.device('cuda')\n",
    "torch.set_default_tensor_type('torch.cuda.FloatTensor')\n",
    "\n",
    "# N is batch size; D_in is input dimension;\n",
    "# H is hidden dimension; D_out is output dimension.\n",
    "N, D_in, H, D_out = 64, 4, 100, 3\n",
    "\n",
    "data = load_iris()\n",
    "\n",
    "train_X, test_X, train_y, test_y = train_test_split(data.data, data.target, test_size=0.8)\n",
    "\n",
    "train_X = torch.Tensor(train_X)\n",
    "test_X = torch.Tensor(test_X)\n",
    "train_y = torch.Tensor(train_y).long()\n",
    "test_y = torch.Tensor(test_y).long()\n",
    "\n",
    "model = torch.nn.Sequential(\n",
    "          torch.nn.Linear(D_in, H),\n",
    "          torch.nn.ReLU(),\n",
    "          torch.nn.Linear(H, D_out),\n",
    "        ).to(device)\n",
    "\n",
    "loss_fn = nn.CrossEntropyLoss()\n",
    "\n",
    "learning_rate = 0.01\n",
    "\n",
    "for t in range(250):\n",
    "  y_pred = model(train_X)\n",
    "  loss = loss_fn(y_pred, train_y)\n",
    "    \n",
    "  if t % 25 == 0:\n",
    "      print(t, loss.item())\n",
    "  \n",
    "  model.zero_grad()\n",
    "  loss.backward()\n",
    "\n",
    "  with torch.no_grad():\n",
    "    for param in model.parameters():\n",
    "      param.data -= learning_rate * param.grad\n",
    "\n",
    "predict_out = model(test_X)\n",
    "_, predict_y = torch.max(predict_out, 1)\n",
    "\n",
    "print ('prediction accuracy', accuracy_score(test_y, predict_y))"
   ]
  }
 ],
 "metadata": {
  "kernelspec": {
   "display_name": "Python 3",
   "language": "python",
   "name": "python3"
  },
  "language_info": {
   "codemirror_mode": {
    "name": "ipython",
    "version": 3
   },
   "file_extension": ".py",
   "mimetype": "text/x-python",
   "name": "python",
   "nbconvert_exporter": "python",
   "pygments_lexer": "ipython3",
   "version": "3.6.3"
  }
 },
 "nbformat": 4,
 "nbformat_minor": 2
}
